{
  "nbformat": 4,
  "nbformat_minor": 0,
  "metadata": {
    "colab": {
      "provenance": [],
      "authorship_tag": "ABX9TyNhMoqrIyv8e4PqU4o1OWiN",
      "include_colab_link": true
    },
    "kernelspec": {
      "name": "python3",
      "display_name": "Python 3"
    },
    "language_info": {
      "name": "python"
    }
  },
  "cells": [
    {
      "cell_type": "markdown",
      "metadata": {
        "id": "view-in-github",
        "colab_type": "text"
      },
      "source": [
        "<a href=\"https://colab.research.google.com/github/stevemichael15/DSA/blob/main/linked_list.ipynb\" target=\"_parent\"><img src=\"https://colab.research.google.com/assets/colab-badge.svg\" alt=\"Open In Colab\"/></a>"
      ]
    },
    {
      "cell_type": "markdown",
      "source": [
        "Implementation of Linked list and performing basic operations\n"
      ],
      "metadata": {
        "id": "Mjr4kYp_kk1z"
      }
    },
    {
      "cell_type": "markdown",
      "source": [],
      "metadata": {
        "id": "z7tgx1pukkzA"
      }
    },
    {
      "cell_type": "code",
      "execution_count": 20,
      "metadata": {
        "id": "hPhNJZPNkgTD"
      },
      "outputs": [],
      "source": [
        "class Node:\n",
        "  def __init__(self, data):\n",
        "    self.data = data\n",
        "    self.next = None"
      ]
    },
    {
      "cell_type": "code",
      "source": [
        "# Basic linked list\n",
        "a = Node(1)\n",
        "b = Node(2)\n",
        "c = Node(3)\n",
        "a.next = b\n",
        "b.next = c\n",
        "head = a\n",
        "curr = head\n",
        "while curr:\n",
        "  print(curr.data, end= \" \")\n",
        "  curr = curr.next"
      ],
      "metadata": {
        "id": "nVZs-2rVkw3X",
        "colab": {
          "base_uri": "https://localhost:8080/"
        },
        "outputId": "5b3192df-7767-443b-b2bd-c0dd9290cf1a"
      },
      "execution_count": 26,
      "outputs": [
        {
          "output_type": "stream",
          "name": "stdout",
          "text": [
            "1 2 3 "
          ]
        }
      ]
    },
    {
      "cell_type": "code",
      "source": [
        "# adding a new Node at the beginning\n",
        "def add_atFirst(head, newNode):\n",
        "  newNode.next = head\n",
        "  head = newNode\n",
        "  return head\n",
        "newNode = Node(0)\n",
        "head = add_atFirst(head, newNode)\n",
        "curr = head\n",
        "while curr:\n",
        "  print(curr.data, end=\" \")\n",
        "  curr= curr.next\n"
      ],
      "metadata": {
        "colab": {
          "base_uri": "https://localhost:8080/"
        },
        "id": "1u8rcE4blYp2",
        "outputId": "625b1c72-598e-4cba-d237-da1efcec1fb3"
      },
      "execution_count": 27,
      "outputs": [
        {
          "output_type": "stream",
          "name": "stdout",
          "text": [
            "0 1 2 3 "
          ]
        }
      ]
    },
    {
      "cell_type": "code",
      "source": [
        "def insert_middle(curr, newNode, pos):\n",
        "  while True:\n",
        "    if curr.data == pos:\n",
        "      break\n",
        "    curr = curr.next\n",
        "  newNode.next = curr.next\n",
        "  curr.next = newNode\n",
        "newNode = Node(1.5)\n",
        "curr = head\n",
        "insert_middle(curr, newNode, 1)\n",
        "while curr:\n",
        "  print(curr.data, end= \" \")\n",
        "  curr = curr.next\n"
      ],
      "metadata": {
        "colab": {
          "base_uri": "https://localhost:8080/"
        },
        "id": "vLpobbaflYnI",
        "outputId": "4cda4da8-4ff1-4b66-b1b3-ab6f8b097d42"
      },
      "execution_count": 28,
      "outputs": [
        {
          "output_type": "stream",
          "name": "stdout",
          "text": [
            "0 1 1.5 2 3 "
          ]
        }
      ]
    },
    {
      "cell_type": "code",
      "source": [
        "def insert_end(head, newNode):\n",
        "  temp = head\n",
        "  while temp.next is not None:\n",
        "    temp = temp.next\n",
        "  temp.next = newNode\n",
        "curr = head\n",
        "newNode = Node(4)\n",
        "insert_end(head, newNode)\n",
        "while curr:\n",
        "  print(curr.data, end= \" \")\n",
        "  curr = curr.next\n"
      ],
      "metadata": {
        "colab": {
          "base_uri": "https://localhost:8080/"
        },
        "id": "Y2tBQAozqwrm",
        "outputId": "26772e06-472f-4562-e78e-4c18e913bb20"
      },
      "execution_count": 29,
      "outputs": [
        {
          "output_type": "stream",
          "name": "stdout",
          "text": [
            "0 1 1.5 2 3 4 "
          ]
        }
      ]
    },
    {
      "cell_type": "code",
      "source": [
        "def del_begin(head):\n",
        "  temp = head\n",
        "  temp = temp.next\n",
        "  return temp\n",
        "head = del_begin(head)\n",
        "curr = head\n",
        "while curr:\n",
        "  print(curr.data, end= \" \")\n",
        "  curr = curr.next"
      ],
      "metadata": {
        "id": "_Xpsce7elYiQ",
        "colab": {
          "base_uri": "https://localhost:8080/"
        },
        "outputId": "77b91264-3f64-4927-9190-b8d7d5676f2a"
      },
      "execution_count": 32,
      "outputs": [
        {
          "output_type": "stream",
          "name": "stdout",
          "text": [
            "1 1.5 2 3 4 "
          ]
        }
      ]
    },
    {
      "cell_type": "code",
      "source": [
        "def del_between(head, pos):\n",
        "  temp = head\n",
        "  while temp.next.data != pos:\n",
        "    temp = temp.next\n",
        "  temp.next = temp.next.next\n",
        "  return head\n",
        "head = del_between(head, 1.5)\n",
        "curr = head\n",
        "while curr:\n",
        "  print(curr.data, end= \" \")\n",
        "  curr = curr.next"
      ],
      "metadata": {
        "id": "sTQYOCCWlYfv",
        "colab": {
          "base_uri": "https://localhost:8080/"
        },
        "outputId": "7a784a91-bd1f-4c0c-a99a-62cd41c8fc8b"
      },
      "execution_count": 33,
      "outputs": [
        {
          "output_type": "stream",
          "name": "stdout",
          "text": [
            "1 2 3 4 "
          ]
        }
      ]
    },
    {
      "cell_type": "code",
      "source": [
        "def del_end(head):\n",
        "  temp = head\n",
        "  while temp.next.next is not None:\n",
        "    temp = temp.next\n",
        "  temp.next = None\n",
        "  return head\n",
        "head = del_end(head)\n",
        "curr = head\n",
        "while curr:\n",
        "  print(curr.data, end= \" \")\n",
        "  curr = curr.next\n"
      ],
      "metadata": {
        "id": "65PMNRO-lYbr",
        "colab": {
          "base_uri": "https://localhost:8080/"
        },
        "outputId": "99ccf051-647a-4c4d-e9b8-f9911863cb94"
      },
      "execution_count": 36,
      "outputs": [
        {
          "output_type": "stream",
          "name": "stdout",
          "text": [
            "1 2 3 "
          ]
        }
      ]
    }
  ]
}