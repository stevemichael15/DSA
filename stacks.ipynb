{
  "nbformat": 4,
  "nbformat_minor": 0,
  "metadata": {
    "colab": {
      "provenance": [],
      "authorship_tag": "ABX9TyPGS6CQB9/QMasu9XvjQ+oY",
      "include_colab_link": true
    },
    "kernelspec": {
      "name": "python3",
      "display_name": "Python 3"
    },
    "language_info": {
      "name": "python"
    }
  },
  "cells": [
    {
      "cell_type": "markdown",
      "metadata": {
        "id": "view-in-github",
        "colab_type": "text"
      },
      "source": [
        "<a href=\"https://colab.research.google.com/github/stevemichael15/DSA/blob/main/stacks.ipynb\" target=\"_parent\"><img src=\"https://colab.research.google.com/assets/colab-badge.svg\" alt=\"Open In Colab\"/></a>"
      ]
    },
    {
      "cell_type": "markdown",
      "source": [
        "Stack implementation by a list in python"
      ],
      "metadata": {
        "id": "nskDWBeXcvhc"
      }
    },
    {
      "cell_type": "code",
      "execution_count": 1,
      "metadata": {
        "colab": {
          "base_uri": "https://localhost:8080/"
        },
        "id": "rtlUvAitceSu",
        "outputId": "b186eef8-d72a-4126-9646-61359eb9d4ae"
      },
      "outputs": [
        {
          "output_type": "execute_result",
          "data": {
            "text/plain": [
              "[9, 2, 6]"
            ]
          },
          "metadata": {},
          "execution_count": 1
        }
      ],
      "source": [
        "st = []\n",
        "st.append(9)\n",
        "st.append(2)\n",
        "st.append(6)\n",
        "st"
      ]
    },
    {
      "cell_type": "code",
      "source": [
        "#push\n",
        "st.append(4)\n",
        "st"
      ],
      "metadata": {
        "colab": {
          "base_uri": "https://localhost:8080/"
        },
        "id": "jyfLLjPUdAsf",
        "outputId": "da7053d7-e690-48d3-d8e4-251e67897501"
      },
      "execution_count": 3,
      "outputs": [
        {
          "output_type": "execute_result",
          "data": {
            "text/plain": [
              "[9, 2, 6, 4]"
            ]
          },
          "metadata": {},
          "execution_count": 3
        }
      ]
    },
    {
      "cell_type": "code",
      "source": [
        "#pop\n",
        "st.pop()\n",
        "st"
      ],
      "metadata": {
        "colab": {
          "base_uri": "https://localhost:8080/"
        },
        "id": "dHlwa24EdAw3",
        "outputId": "9341d536-2574-44a8-a307-f747f9194590"
      },
      "execution_count": 4,
      "outputs": [
        {
          "output_type": "execute_result",
          "data": {
            "text/plain": [
              "[9, 2, 6]"
            ]
          },
          "metadata": {},
          "execution_count": 4
        }
      ]
    },
    {
      "cell_type": "code",
      "source": [
        "#top\n",
        "st[-1]"
      ],
      "metadata": {
        "colab": {
          "base_uri": "https://localhost:8080/"
        },
        "id": "3rlxwT78dNmI",
        "outputId": "97b3b6da-e883-4018-ec12-d5cfa72f0628"
      },
      "execution_count": 5,
      "outputs": [
        {
          "output_type": "execute_result",
          "data": {
            "text/plain": [
              "6"
            ]
          },
          "metadata": {},
          "execution_count": 5
        }
      ]
    },
    {
      "cell_type": "markdown",
      "source": [
        "Stack implementation through class"
      ],
      "metadata": {
        "id": "WwBPTOgdddIU"
      }
    },
    {
      "cell_type": "code",
      "source": [
        "class Stack:\n",
        "  def __init__(self):\n",
        "    self.st = []\n",
        "\n",
        "  def push(self, x):\n",
        "    self.st.append(x)\n",
        "\n",
        "  def pop(self):\n",
        "    if len(self.st)==0:\n",
        "      return -1\n",
        "    x = self.st[-1]\n",
        "    self.st.pop()\n",
        "    return x\n",
        "\n",
        "  def top(self):\n",
        "    if len(self.st)==0:\n",
        "      return -1\n",
        "    return self.st[-1]\n",
        "\n",
        "  def size(self):\n",
        "    return len(self.st)"
      ],
      "metadata": {
        "id": "fYYl8QU0dA0C"
      },
      "execution_count": 6,
      "outputs": []
    },
    {
      "cell_type": "code",
      "source": [
        "st = Stack()\n",
        "st.push(9)\n",
        "st.push(1)\n",
        "st.push(2)\n",
        "st.push(7)\n",
        "st.push(5)\n",
        "st.push(3)\n"
      ],
      "metadata": {
        "id": "Nx1xtfoKdA3N"
      },
      "execution_count": 7,
      "outputs": []
    },
    {
      "cell_type": "code",
      "source": [
        "st.top()"
      ],
      "metadata": {
        "id": "NjJSFsh7dA9P",
        "colab": {
          "base_uri": "https://localhost:8080/"
        },
        "outputId": "16926d81-00f1-43d5-9979-562c5df1100e"
      },
      "execution_count": 8,
      "outputs": [
        {
          "output_type": "execute_result",
          "data": {
            "text/plain": [
              "3"
            ]
          },
          "metadata": {},
          "execution_count": 8
        }
      ]
    },
    {
      "cell_type": "code",
      "source": [
        "st.pop()"
      ],
      "metadata": {
        "id": "uQvn01TSdBEz",
        "colab": {
          "base_uri": "https://localhost:8080/"
        },
        "outputId": "299bbfb2-ef87-43a7-867c-0a529c3a2d5d"
      },
      "execution_count": 9,
      "outputs": [
        {
          "output_type": "execute_result",
          "data": {
            "text/plain": [
              "3"
            ]
          },
          "metadata": {},
          "execution_count": 9
        }
      ]
    },
    {
      "cell_type": "code",
      "source": [
        "st.top()"
      ],
      "metadata": {
        "id": "ocYNQD82dBHX",
        "colab": {
          "base_uri": "https://localhost:8080/"
        },
        "outputId": "8100aa1c-aaf0-4921-9767-8d96bb0205c6"
      },
      "execution_count": 10,
      "outputs": [
        {
          "output_type": "execute_result",
          "data": {
            "text/plain": [
              "5"
            ]
          },
          "metadata": {},
          "execution_count": 10
        }
      ]
    },
    {
      "cell_type": "code",
      "source": [
        "st.size()"
      ],
      "metadata": {
        "id": "MUmlEuaRdBKL",
        "colab": {
          "base_uri": "https://localhost:8080/"
        },
        "outputId": "cbce779e-8219-4d61-c97c-35ed3330eff9"
      },
      "execution_count": 11,
      "outputs": [
        {
          "output_type": "execute_result",
          "data": {
            "text/plain": [
              "5"
            ]
          },
          "metadata": {},
          "execution_count": 11
        }
      ]
    },
    {
      "cell_type": "markdown",
      "source": [
        "Stack implementation through a linked list"
      ],
      "metadata": {
        "id": "GzHrCEGmisuW"
      }
    },
    {
      "cell_type": "code",
      "source": [
        "class Node:\n",
        "  def __init__(self,data):\n",
        "    self.data = data\n",
        "    self.next = None\n",
        "class StackLL:\n",
        "  def __init__(self):\n",
        "    self.top = None\n",
        "    self.length = 0\n",
        "  def push(self, x):\n",
        "    self.length += 1\n",
        "    if self.top is None:\n",
        "      self.top = Node(x)\n",
        "    else:\n",
        "      newNode = Node(x)\n",
        "      newNode.next = self.top\n",
        "      self.top = newNode\n",
        "  def pop(self):\n",
        "    self.length -= 1\n",
        "    x = self.top.data\n",
        "    self.top = self.top.next\n",
        "    return x\n",
        "  def getTop(self):\n",
        "    if self.top is None:\n",
        "      return -1\n",
        "    return self.top.data\n",
        "  def size(self):\n",
        "    return self.length\n",
        "  def isempty(self):\n",
        "    if self.top is None:\n",
        "      return True\n",
        "    else:\n",
        "      return False"
      ],
      "metadata": {
        "id": "wlCJ9Yk_dBMF"
      },
      "execution_count": 37,
      "outputs": []
    },
    {
      "cell_type": "code",
      "source": [
        "stll = StackLL()\n",
        "stll.push(2)\n",
        "stll.push(3)\n",
        "stll.push(1)\n",
        "stll.push(6)\n",
        "stll.push(4)\n",
        "stll.getTop()"
      ],
      "metadata": {
        "id": "N_gHFEh9dBOV",
        "colab": {
          "base_uri": "https://localhost:8080/"
        },
        "outputId": "21327590-0eb0-4542-a689-886b68914ae7"
      },
      "execution_count": 38,
      "outputs": [
        {
          "output_type": "execute_result",
          "data": {
            "text/plain": [
              "4"
            ]
          },
          "metadata": {},
          "execution_count": 38
        }
      ]
    },
    {
      "cell_type": "code",
      "source": [
        "stll.pop()\n",
        "stll.getTop()"
      ],
      "metadata": {
        "colab": {
          "base_uri": "https://localhost:8080/"
        },
        "id": "8jCaB1V1ipaP",
        "outputId": "b57ac85f-6f3f-4606-aaa4-66bdaae7aa64"
      },
      "execution_count": 39,
      "outputs": [
        {
          "output_type": "execute_result",
          "data": {
            "text/plain": [
              "6"
            ]
          },
          "metadata": {},
          "execution_count": 39
        }
      ]
    },
    {
      "cell_type": "code",
      "source": [
        "stll.isempty()"
      ],
      "metadata": {
        "colab": {
          "base_uri": "https://localhost:8080/"
        },
        "id": "q4ov3sO3ipd_",
        "outputId": "7db1766a-1097-48a4-997c-98770a90aaca"
      },
      "execution_count": 40,
      "outputs": [
        {
          "output_type": "execute_result",
          "data": {
            "text/plain": [
              "False"
            ]
          },
          "metadata": {},
          "execution_count": 40
        }
      ]
    },
    {
      "cell_type": "code",
      "source": [
        "stll.size()"
      ],
      "metadata": {
        "colab": {
          "base_uri": "https://localhost:8080/"
        },
        "id": "10ddOnYaiphj",
        "outputId": "dbd0b953-9e80-424b-f1d7-ff38ee63ed37"
      },
      "execution_count": 41,
      "outputs": [
        {
          "output_type": "execute_result",
          "data": {
            "text/plain": [
              "4"
            ]
          },
          "metadata": {},
          "execution_count": 41
        }
      ]
    },
    {
      "cell_type": "code",
      "source": [],
      "metadata": {
        "id": "EDmOEHwRipj_"
      },
      "execution_count": null,
      "outputs": []
    },
    {
      "cell_type": "code",
      "source": [],
      "metadata": {
        "id": "mV-sZvt0ipmf"
      },
      "execution_count": null,
      "outputs": []
    },
    {
      "cell_type": "code",
      "source": [],
      "metadata": {
        "id": "TahiGlSZippX"
      },
      "execution_count": null,
      "outputs": []
    },
    {
      "cell_type": "code",
      "source": [],
      "metadata": {
        "id": "iZGmY3QLip1R"
      },
      "execution_count": null,
      "outputs": []
    }
  ]
}